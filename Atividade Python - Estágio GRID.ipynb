{
 "cells": [
  {
   "cell_type": "markdown",
   "metadata": {
    "id": "S6980g11etb7"
   },
   "source": [
    "<h1>Regressões</h1>\n",
    "\n",
    "<p>O método de regressão é um dos mais antigos e mais utilizados em métodos analíticos quantitativos. O objetivo da regressão é produzir um modelo que melhor se ajusta a um conjunto de dados observado. Tipicamente, o modelo é uma função que descreve algum tipo de curva (linhas, parábolas etc.) e é determinado a partir de um conjunto de parâmetros. No caso da regressão linear, o modelo é a função linear e os parâmetros que o descrevem são o intercepto e inclinação.\n",
    "<p>Em termos matemáticos, o objetivo da regressão é encontrar uma função de algumas variáveis ou atributos <span class=\"math inline\">\\(x_1, x_2...x_n\\)</span>, que prediz o valor do rótulo <span class=\"math inline\">\\(y\\)</span>. O valor predito do rótulo é denominado <span class=\"math inline\">\\(\\hat{y}\\)</span> e é dado por:</p>\n",
    "<p><span class=\"math display\">\\[\\hat{y} = f(x_1, x_2...x_n)\\]</span></p>\n",
    "<p>Inicialmente, a regressão <em>aprende</em> a função <span class=\"math inline\">\\(f(x_1, x_2...x_n)\\)</span> a partir de dados de <strong>treinamento</strong>, ou seja, aqueles cujos valores dos rótulos y já são conhecidos. Uma vez aprendida a função (isto é, depois de determinar o intercepto e a inclinação no caso da função linear) queremos realizar predições de novos dados nunca vistos, que se encontram em outro conjunto de dados chamado conjunto de <strong>teste</strong>.</p>\n",
    "<p>Neste caderno você fará um breve exercício sobre regressões lineares com uma base didática.</p>\n"
   ]
  },
  {
   "cell_type": "markdown",
   "metadata": {
    "id": "4yVl5CdxF_cd"
   },
   "source": [
    "## Regressão linear multivariada\n",
    "\n",
    "<p>Queremos determinar os coeficientes angulares <span class=\"math inline\">\\(a_1, a_2...a_n\\)</span> e o coeficiente linear (intercepto) <span class=\"math inline\">\\(a_0\\)</span> do modelo de regressão linear a seguir:</p>\n",
    "<p><span class=\"math display\">\\[\\hat{y} = a_0 + a_1 \\cdot x_1 + a_2 \\cdot x_2 + ... + a_n \\cdot x_n\\]</span></p>\n",
    "\n",
    "<p>Vamos usar uma base didática que reúne preços (rótulos ou y) de veículos automotivos e as suas características (atributos ou <span class=\"math inline\">\\(x_1, x_2...x_n\\)</span>). </p>\n",
    "\n",
    "Preencha as células seguintes com um ou mais comandos Python, para executar as tarefas pedidas em cada comentário. Execute as células com os comandos e mostre os resultados obtidos. Não se esqueça de importar as bibliotecas necessárias.\n",
    "\n",
    "Você pode realizar a atividade com consulta. "
   ]
  },
  {
   "cell_type": "code",
   "execution_count": 1,
   "metadata": {},
   "outputs": [],
   "source": [
    "import pandas as pd\n",
    "import numpy as np"
   ]
  },
  {
   "cell_type": "code",
   "execution_count": 2,
   "metadata": {
    "colab": {
     "base_uri": "https://localhost:8080/"
    },
    "executionInfo": {
     "elapsed": 678,
     "status": "ok",
     "timestamp": 1619033977231,
     "user": {
      "displayName": "Remis Balaniuk",
      "photoUrl": "https://lh3.googleusercontent.com/a-/AOh14GjXOVdqV9bjxfLhxmIbGhplE28x3FPyTvay3vtfyJY=s64",
      "userId": "01431272418885295259"
     },
     "user_tz": 180
    },
    "id": "LVV-Ui52J4Gs",
    "outputId": "0e5d7474-df1c-4adf-c334-3db56a087ea6"
   },
   "outputs": [
    {
     "data": {
      "text/html": [
       "<div>\n",
       "<style scoped>\n",
       "    .dataframe tbody tr th:only-of-type {\n",
       "        vertical-align: middle;\n",
       "    }\n",
       "\n",
       "    .dataframe tbody tr th {\n",
       "        vertical-align: top;\n",
       "    }\n",
       "\n",
       "    .dataframe thead th {\n",
       "        text-align: right;\n",
       "    }\n",
       "</style>\n",
       "<table border=\"1\" class=\"dataframe\">\n",
       "  <thead>\n",
       "    <tr style=\"text-align: right;\">\n",
       "      <th></th>\n",
       "      <th>symboling</th>\n",
       "      <th>normalized-losses</th>\n",
       "      <th>make</th>\n",
       "      <th>fuel-type</th>\n",
       "      <th>aspiration</th>\n",
       "      <th>num-of-doors</th>\n",
       "      <th>body-style</th>\n",
       "      <th>drive-wheels</th>\n",
       "      <th>engine-location</th>\n",
       "      <th>wheel-base</th>\n",
       "      <th>...</th>\n",
       "      <th>engine-size</th>\n",
       "      <th>fuel-system</th>\n",
       "      <th>bore</th>\n",
       "      <th>stroke</th>\n",
       "      <th>compression-ratio</th>\n",
       "      <th>horsepower</th>\n",
       "      <th>peak-rpm</th>\n",
       "      <th>city-mpg</th>\n",
       "      <th>highway-mpg</th>\n",
       "      <th>price</th>\n",
       "    </tr>\n",
       "  </thead>\n",
       "  <tbody>\n",
       "    <tr>\n",
       "      <th>0</th>\n",
       "      <td>3</td>\n",
       "      <td>?</td>\n",
       "      <td>alfa-romero</td>\n",
       "      <td>gas</td>\n",
       "      <td>std</td>\n",
       "      <td>two</td>\n",
       "      <td>convertible</td>\n",
       "      <td>rwd</td>\n",
       "      <td>front</td>\n",
       "      <td>88.6</td>\n",
       "      <td>...</td>\n",
       "      <td>130</td>\n",
       "      <td>mpfi</td>\n",
       "      <td>3.47</td>\n",
       "      <td>2.68</td>\n",
       "      <td>9.0</td>\n",
       "      <td>111</td>\n",
       "      <td>5000</td>\n",
       "      <td>21</td>\n",
       "      <td>27</td>\n",
       "      <td>13495</td>\n",
       "    </tr>\n",
       "    <tr>\n",
       "      <th>1</th>\n",
       "      <td>3</td>\n",
       "      <td>?</td>\n",
       "      <td>alfa-romero</td>\n",
       "      <td>gas</td>\n",
       "      <td>std</td>\n",
       "      <td>two</td>\n",
       "      <td>convertible</td>\n",
       "      <td>rwd</td>\n",
       "      <td>front</td>\n",
       "      <td>88.6</td>\n",
       "      <td>...</td>\n",
       "      <td>130</td>\n",
       "      <td>mpfi</td>\n",
       "      <td>3.47</td>\n",
       "      <td>2.68</td>\n",
       "      <td>9.0</td>\n",
       "      <td>111</td>\n",
       "      <td>5000</td>\n",
       "      <td>21</td>\n",
       "      <td>27</td>\n",
       "      <td>16500</td>\n",
       "    </tr>\n",
       "    <tr>\n",
       "      <th>2</th>\n",
       "      <td>1</td>\n",
       "      <td>?</td>\n",
       "      <td>alfa-romero</td>\n",
       "      <td>gas</td>\n",
       "      <td>std</td>\n",
       "      <td>two</td>\n",
       "      <td>hatchback</td>\n",
       "      <td>rwd</td>\n",
       "      <td>front</td>\n",
       "      <td>94.5</td>\n",
       "      <td>...</td>\n",
       "      <td>152</td>\n",
       "      <td>mpfi</td>\n",
       "      <td>2.68</td>\n",
       "      <td>3.47</td>\n",
       "      <td>9.0</td>\n",
       "      <td>154</td>\n",
       "      <td>5000</td>\n",
       "      <td>19</td>\n",
       "      <td>26</td>\n",
       "      <td>16500</td>\n",
       "    </tr>\n",
       "    <tr>\n",
       "      <th>3</th>\n",
       "      <td>2</td>\n",
       "      <td>164</td>\n",
       "      <td>audi</td>\n",
       "      <td>gas</td>\n",
       "      <td>std</td>\n",
       "      <td>four</td>\n",
       "      <td>sedan</td>\n",
       "      <td>fwd</td>\n",
       "      <td>front</td>\n",
       "      <td>99.8</td>\n",
       "      <td>...</td>\n",
       "      <td>109</td>\n",
       "      <td>mpfi</td>\n",
       "      <td>3.19</td>\n",
       "      <td>3.4</td>\n",
       "      <td>10.0</td>\n",
       "      <td>102</td>\n",
       "      <td>5500</td>\n",
       "      <td>24</td>\n",
       "      <td>30</td>\n",
       "      <td>13950</td>\n",
       "    </tr>\n",
       "    <tr>\n",
       "      <th>4</th>\n",
       "      <td>2</td>\n",
       "      <td>164</td>\n",
       "      <td>audi</td>\n",
       "      <td>gas</td>\n",
       "      <td>std</td>\n",
       "      <td>four</td>\n",
       "      <td>sedan</td>\n",
       "      <td>4wd</td>\n",
       "      <td>front</td>\n",
       "      <td>99.4</td>\n",
       "      <td>...</td>\n",
       "      <td>136</td>\n",
       "      <td>mpfi</td>\n",
       "      <td>3.19</td>\n",
       "      <td>3.4</td>\n",
       "      <td>8.0</td>\n",
       "      <td>115</td>\n",
       "      <td>5500</td>\n",
       "      <td>18</td>\n",
       "      <td>22</td>\n",
       "      <td>17450</td>\n",
       "    </tr>\n",
       "  </tbody>\n",
       "</table>\n",
       "<p>5 rows × 26 columns</p>\n",
       "</div>"
      ],
      "text/plain": [
       "   symboling normalized-losses         make fuel-type aspiration num-of-doors  \\\n",
       "0          3                 ?  alfa-romero       gas        std          two   \n",
       "1          3                 ?  alfa-romero       gas        std          two   \n",
       "2          1                 ?  alfa-romero       gas        std          two   \n",
       "3          2               164         audi       gas        std         four   \n",
       "4          2               164         audi       gas        std         four   \n",
       "\n",
       "    body-style drive-wheels engine-location  wheel-base  ...  engine-size  \\\n",
       "0  convertible          rwd           front        88.6  ...          130   \n",
       "1  convertible          rwd           front        88.6  ...          130   \n",
       "2    hatchback          rwd           front        94.5  ...          152   \n",
       "3        sedan          fwd           front        99.8  ...          109   \n",
       "4        sedan          4wd           front        99.4  ...          136   \n",
       "\n",
       "   fuel-system  bore  stroke compression-ratio horsepower  peak-rpm city-mpg  \\\n",
       "0         mpfi  3.47    2.68               9.0        111      5000       21   \n",
       "1         mpfi  3.47    2.68               9.0        111      5000       21   \n",
       "2         mpfi  2.68    3.47               9.0        154      5000       19   \n",
       "3         mpfi  3.19     3.4              10.0        102      5500       24   \n",
       "4         mpfi  3.19     3.4               8.0        115      5500       18   \n",
       "\n",
       "  highway-mpg  price  \n",
       "0          27  13495  \n",
       "1          27  16500  \n",
       "2          26  16500  \n",
       "3          30  13950  \n",
       "4          22  17450  \n",
       "\n",
       "[5 rows x 26 columns]"
      ]
     },
     "execution_count": 2,
     "metadata": {},
     "output_type": "execute_result"
    }
   ],
   "source": [
    "# Carregue o arquivo Automobile_data.csv em um DataFrame\n",
    "dataset = pd.read_csv(\"Automobile_data.csv\")\n",
    "dataset.head()"
   ]
  },
  {
   "cell_type": "code",
   "execution_count": 3,
   "metadata": {
    "colab": {
     "base_uri": "https://localhost:8080/"
    },
    "executionInfo": {
     "elapsed": 706,
     "status": "ok",
     "timestamp": 1619033979269,
     "user": {
      "displayName": "Remis Balaniuk",
      "photoUrl": "https://lh3.googleusercontent.com/a-/AOh14GjXOVdqV9bjxfLhxmIbGhplE28x3FPyTvay3vtfyJY=s64",
      "userId": "01431272418885295259"
     },
     "user_tz": 180
    },
    "id": "skYFm6hpJiVN",
    "outputId": "56ac4f1c-dd57-4e1f-d972-a86a636e7189"
   },
   "outputs": [
    {
     "name": "stdout",
     "output_type": "stream",
     "text": [
      "['symboling', 'normalized-losses', 'make', 'fuel-type', 'aspiration', 'num-of-doors', 'body-style', 'drive-wheels', 'engine-location', 'wheel-base', 'length', 'width', 'height', 'curb-weight', 'engine-type', 'num-of-cylinders', 'engine-size', 'fuel-system', 'bore', 'stroke', 'compression-ratio', 'horsepower', 'peak-rpm', 'city-mpg', 'highway-mpg', 'price']\n"
     ]
    }
   ],
   "source": [
    "# Liste os nomes das colunas desse DataFrame\n",
    "print(list(dataset.columns))"
   ]
  },
  {
   "cell_type": "markdown",
   "metadata": {
    "id": "3yKhxOomPhAv"
   },
   "source": [
    "Como se vê, a base descreve diversas características de um conjunto de veículos, sendo que o último atributo (price) é o rótulo preço."
   ]
  },
  {
   "cell_type": "markdown",
   "metadata": {
    "id": "2B1D9VNAMZZu"
   },
   "source": [
    "# Limpeza da base\n",
    "\n",
    "Note que somente algumas das variáveis são numéricas. Note ainda que nossa variável alvo não é numérica, o que é um grande problema."
   ]
  },
  {
   "cell_type": "code",
   "execution_count": 4,
   "metadata": {},
   "outputs": [
    {
     "name": "stdout",
     "output_type": "stream",
     "text": [
      "True\n",
      "<class 'str'>\n"
     ]
    }
   ],
   "source": [
    "# Descubra o tipo da coluna price. Você pode mostrar o tipo da coluna inteira ou de um elemento dela.\n",
    "print(dataset['price'][0].isnumeric())\n",
    "print(type(dataset['price'][0]))"
   ]
  },
  {
   "cell_type": "code",
   "execution_count": 5,
   "metadata": {
    "id": "7V9Y2KSHMqSd"
   },
   "outputs": [],
   "source": [
    "# Delete todas as linhas (inteiras) do DataFrame onde a variável price não é do tipo numérico.\n",
    "for i, valor in enumerate(dataset['price']):\n",
    "    if not valor.isnumeric():\n",
    "        dataset = dataset.drop(i)"
   ]
  },
  {
   "cell_type": "code",
   "execution_count": 6,
   "metadata": {
    "id": "zXXfyQkEMtlX"
   },
   "outputs": [],
   "source": [
    "# Converta o atributo price para o tipo float. Para isso, utilize o método pd.to_numeric() com o parâmetro downcast=\"float\"\n",
    "dataset['price'] = pd.to_numeric(dataset['price'], downcast = 'float')"
   ]
  },
  {
   "cell_type": "code",
   "execution_count": 7,
   "metadata": {
    "id": "FK_3i9tTM5F0"
   },
   "outputs": [],
   "source": [
    "# Repita os dois passos anteriores para o atributo horsepower\n",
    "dataset['horsepower'].replace(\"?\", np.nan, inplace = True)\n",
    "dataset.dropna(subset = ['horsepower'], inplace = True)\n",
    "dataset['horsepower'] = pd.to_numeric(dataset['horsepower'], downcast = 'float')"
   ]
  },
  {
   "cell_type": "code",
   "execution_count": 8,
   "metadata": {
    "id": "V4e5VJ3xNov8"
   },
   "outputs": [
    {
     "data": {
      "text/html": [
       "<div>\n",
       "<style scoped>\n",
       "    .dataframe tbody tr th:only-of-type {\n",
       "        vertical-align: middle;\n",
       "    }\n",
       "\n",
       "    .dataframe tbody tr th {\n",
       "        vertical-align: top;\n",
       "    }\n",
       "\n",
       "    .dataframe thead th {\n",
       "        text-align: right;\n",
       "    }\n",
       "</style>\n",
       "<table border=\"1\" class=\"dataframe\">\n",
       "  <thead>\n",
       "    <tr style=\"text-align: right;\">\n",
       "      <th></th>\n",
       "      <th>symboling</th>\n",
       "      <th>normalized-losses</th>\n",
       "      <th>make</th>\n",
       "      <th>fuel-type</th>\n",
       "      <th>aspiration</th>\n",
       "      <th>num-of-doors</th>\n",
       "      <th>body-style</th>\n",
       "      <th>drive-wheels</th>\n",
       "      <th>engine-location</th>\n",
       "      <th>wheel-base</th>\n",
       "      <th>...</th>\n",
       "      <th>fuel-system</th>\n",
       "      <th>bore</th>\n",
       "      <th>stroke</th>\n",
       "      <th>compression-ratio</th>\n",
       "      <th>horsepower</th>\n",
       "      <th>peak-rpm</th>\n",
       "      <th>city-mpg</th>\n",
       "      <th>highway-mpg</th>\n",
       "      <th>price</th>\n",
       "      <th>logPrice</th>\n",
       "    </tr>\n",
       "  </thead>\n",
       "  <tbody>\n",
       "    <tr>\n",
       "      <th>0</th>\n",
       "      <td>3</td>\n",
       "      <td>?</td>\n",
       "      <td>alfa-romero</td>\n",
       "      <td>gas</td>\n",
       "      <td>std</td>\n",
       "      <td>two</td>\n",
       "      <td>convertible</td>\n",
       "      <td>rwd</td>\n",
       "      <td>front</td>\n",
       "      <td>88.6</td>\n",
       "      <td>...</td>\n",
       "      <td>mpfi</td>\n",
       "      <td>3.47</td>\n",
       "      <td>2.68</td>\n",
       "      <td>9.0</td>\n",
       "      <td>111.0</td>\n",
       "      <td>5000</td>\n",
       "      <td>21</td>\n",
       "      <td>27</td>\n",
       "      <td>13495.0</td>\n",
       "      <td>9.510075</td>\n",
       "    </tr>\n",
       "    <tr>\n",
       "      <th>1</th>\n",
       "      <td>3</td>\n",
       "      <td>?</td>\n",
       "      <td>alfa-romero</td>\n",
       "      <td>gas</td>\n",
       "      <td>std</td>\n",
       "      <td>two</td>\n",
       "      <td>convertible</td>\n",
       "      <td>rwd</td>\n",
       "      <td>front</td>\n",
       "      <td>88.6</td>\n",
       "      <td>...</td>\n",
       "      <td>mpfi</td>\n",
       "      <td>3.47</td>\n",
       "      <td>2.68</td>\n",
       "      <td>9.0</td>\n",
       "      <td>111.0</td>\n",
       "      <td>5000</td>\n",
       "      <td>21</td>\n",
       "      <td>27</td>\n",
       "      <td>16500.0</td>\n",
       "      <td>9.711116</td>\n",
       "    </tr>\n",
       "    <tr>\n",
       "      <th>2</th>\n",
       "      <td>1</td>\n",
       "      <td>?</td>\n",
       "      <td>alfa-romero</td>\n",
       "      <td>gas</td>\n",
       "      <td>std</td>\n",
       "      <td>two</td>\n",
       "      <td>hatchback</td>\n",
       "      <td>rwd</td>\n",
       "      <td>front</td>\n",
       "      <td>94.5</td>\n",
       "      <td>...</td>\n",
       "      <td>mpfi</td>\n",
       "      <td>2.68</td>\n",
       "      <td>3.47</td>\n",
       "      <td>9.0</td>\n",
       "      <td>154.0</td>\n",
       "      <td>5000</td>\n",
       "      <td>19</td>\n",
       "      <td>26</td>\n",
       "      <td>16500.0</td>\n",
       "      <td>9.711116</td>\n",
       "    </tr>\n",
       "    <tr>\n",
       "      <th>3</th>\n",
       "      <td>2</td>\n",
       "      <td>164</td>\n",
       "      <td>audi</td>\n",
       "      <td>gas</td>\n",
       "      <td>std</td>\n",
       "      <td>four</td>\n",
       "      <td>sedan</td>\n",
       "      <td>fwd</td>\n",
       "      <td>front</td>\n",
       "      <td>99.8</td>\n",
       "      <td>...</td>\n",
       "      <td>mpfi</td>\n",
       "      <td>3.19</td>\n",
       "      <td>3.4</td>\n",
       "      <td>10.0</td>\n",
       "      <td>102.0</td>\n",
       "      <td>5500</td>\n",
       "      <td>24</td>\n",
       "      <td>30</td>\n",
       "      <td>13950.0</td>\n",
       "      <td>9.543235</td>\n",
       "    </tr>\n",
       "    <tr>\n",
       "      <th>4</th>\n",
       "      <td>2</td>\n",
       "      <td>164</td>\n",
       "      <td>audi</td>\n",
       "      <td>gas</td>\n",
       "      <td>std</td>\n",
       "      <td>four</td>\n",
       "      <td>sedan</td>\n",
       "      <td>4wd</td>\n",
       "      <td>front</td>\n",
       "      <td>99.4</td>\n",
       "      <td>...</td>\n",
       "      <td>mpfi</td>\n",
       "      <td>3.19</td>\n",
       "      <td>3.4</td>\n",
       "      <td>8.0</td>\n",
       "      <td>115.0</td>\n",
       "      <td>5500</td>\n",
       "      <td>18</td>\n",
       "      <td>22</td>\n",
       "      <td>17450.0</td>\n",
       "      <td>9.767095</td>\n",
       "    </tr>\n",
       "  </tbody>\n",
       "</table>\n",
       "<p>5 rows × 27 columns</p>\n",
       "</div>"
      ],
      "text/plain": [
       "   symboling normalized-losses         make fuel-type aspiration num-of-doors  \\\n",
       "0          3                 ?  alfa-romero       gas        std          two   \n",
       "1          3                 ?  alfa-romero       gas        std          two   \n",
       "2          1                 ?  alfa-romero       gas        std          two   \n",
       "3          2               164         audi       gas        std         four   \n",
       "4          2               164         audi       gas        std         four   \n",
       "\n",
       "    body-style drive-wheels engine-location  wheel-base  ...  fuel-system  \\\n",
       "0  convertible          rwd           front        88.6  ...         mpfi   \n",
       "1  convertible          rwd           front        88.6  ...         mpfi   \n",
       "2    hatchback          rwd           front        94.5  ...         mpfi   \n",
       "3        sedan          fwd           front        99.8  ...         mpfi   \n",
       "4        sedan          4wd           front        99.4  ...         mpfi   \n",
       "\n",
       "   bore  stroke  compression-ratio horsepower peak-rpm  city-mpg highway-mpg  \\\n",
       "0  3.47    2.68                9.0      111.0     5000        21          27   \n",
       "1  3.47    2.68                9.0      111.0     5000        21          27   \n",
       "2  2.68    3.47                9.0      154.0     5000        19          26   \n",
       "3  3.19     3.4               10.0      102.0     5500        24          30   \n",
       "4  3.19     3.4                8.0      115.0     5500        18          22   \n",
       "\n",
       "     price  logPrice  \n",
       "0  13495.0  9.510075  \n",
       "1  16500.0  9.711116  \n",
       "2  16500.0  9.711116  \n",
       "3  13950.0  9.543235  \n",
       "4  17450.0  9.767095  \n",
       "\n",
       "[5 rows x 27 columns]"
      ]
     },
     "execution_count": 8,
     "metadata": {},
     "output_type": "execute_result"
    }
   ],
   "source": [
    "# Crie uma nova coluna chamada logPrice igual ao logaritmo natural do preço utilizando a função np.log\n",
    "dataset['logPrice'] = np.log(dataset['price'])\n",
    "dataset.head()"
   ]
  },
  {
   "cell_type": "markdown",
   "metadata": {
    "id": "kKltlUZ9coFK"
   },
   "source": [
    "Agora vamos normalizar alguns atributos."
   ]
  },
  {
   "cell_type": "code",
   "execution_count": 9,
   "metadata": {
    "id": "QJBs9jRzSa6s"
   },
   "outputs": [],
   "source": [
    "# Construa um array Numpy (objeto do tipo numpy.ndarray) chamado \"valores\" com as colunas 'engine-size', 'horsepower', 'city-mpg', 'highway-mpg'\n",
    "# do DataFrame original. Para isso, utilize o método to_numpy() do pandas\n",
    "valores = dataset[['engine-size', 'horsepower', 'city-mpg', 'highway-mpg']].to_numpy()"
   ]
  },
  {
   "cell_type": "code",
   "execution_count": 10,
   "metadata": {
    "id": "U1WC17kkURbN"
   },
   "outputs": [],
   "source": [
    "# Use o Numpy para calcular a média (mean) das LINHAS do array e atribua esse array unidimensional \n",
    "# a uma variável chamada \"medias\". Utilize os parâmetro axis=1 e keepdims=True ao chamar o método do numpy\n",
    "###keepdims será útil para a próxima questão\n",
    "medias = valores.mean(axis=  1, keepdims = True)"
   ]
  },
  {
   "cell_type": "code",
   "execution_count": 11,
   "metadata": {},
   "outputs": [],
   "source": [
    "# Use o Numpy para calcular o desvio-padrão (std) das LINHAS do array. \n",
    "# Utilize os parâmetro axis=1 e keepdims=True ao chamar o método do numpy\n",
    "# Atribua esse array unidimensional a uma variável chamada \"std\".\n",
    "std = valores.std(axis = 1, keepdims = True)"
   ]
  },
  {
   "cell_type": "code",
   "execution_count": 12,
   "metadata": {},
   "outputs": [],
   "source": [
    "# Calcule um novo array chamado \"X\" a partir de (valores - medias) / std.\n",
    "# Estes são os valores normalizados que formam a matriz de atributos.\n",
    "x = (valores - medias) / std"
   ]
  },
  {
   "cell_type": "markdown",
   "metadata": {
    "id": "VpdJp8V9PP1_"
   },
   "source": [
    "Agora vamos preparar as bases de treinamento e teste."
   ]
  },
  {
   "cell_type": "code",
   "execution_count": 13,
   "metadata": {},
   "outputs": [],
   "source": [
    "# importe a classe train_test_split da biblioteca de machine learning Scikit-learn \n",
    "# Para isso, utilize o comando abaixo\n",
    "from sklearn.model_selection import train_test_split"
   ]
  },
  {
   "cell_type": "markdown",
   "metadata": {},
   "source": [
    "A documentação desse método está disponível em:\n",
    "https://scikit-learn.org/stable/modules/generated/sklearn.model_selection.train_test_split.html"
   ]
  },
  {
   "cell_type": "code",
   "execution_count": 14,
   "metadata": {},
   "outputs": [],
   "source": [
    "# Crie uma variável do tipo numpy.ndarray com o nome \"y\" a partir da coluna logPrice utilizando o método to_numpy()\n",
    "y = dataset['logPrice'].to_numpy()"
   ]
  },
  {
   "cell_type": "code",
   "execution_count": 15,
   "metadata": {},
   "outputs": [],
   "source": [
    "# Use a classe train_test_split da biblioteca de machine learning Scikit-learn.\n",
    "# Esse passo pode ser visualizado na segunda célula da documentação do método, conforme link acima\n",
    "# Gere 4 arrays a partir de X e y.\n",
    "# Os arrays serão X_train, X_test, y_train e y_test, nesta ordem.\n",
    "# Os arrays do conjunto de teste X_test e y_test serão 25% da amostra (test_size=0.25).\n",
    "# Use random_state = 1 \n",
    "x_train, x_test, y_train, y_test = train_test_split(x, y, test_size = 0.25, random_state = 1)"
   ]
  },
  {
   "cell_type": "code",
   "execution_count": 16,
   "metadata": {},
   "outputs": [],
   "source": [
    "# importe a classe LinearRegression do Scikit-learn para ajustar (fit) um modelo de regressão linear.\n",
    "# utilize o comando abaixo para importar a classe:\n",
    "# from sklearn.linear_model import LinearRegression\n",
    "from sklearn.linear_model import LinearRegression"
   ]
  },
  {
   "cell_type": "markdown",
   "metadata": {},
   "source": [
    "A documentação desse método está disponível em:\n",
    "https://scikit-learn.org/stable/modules/generated/sklearn.linear_model.LinearRegression.html?highlight=linearregression#sklearn.linear_model.LinearRegression"
   ]
  },
  {
   "cell_type": "markdown",
   "metadata": {},
   "source": [
    "Use a classe LinearRegression do Scikit-learn para ajustar (fit) um modelo de regressão linear no conjunto de TREINAMENTO."
   ]
  },
  {
   "cell_type": "code",
   "execution_count": 17,
   "metadata": {
    "colab": {
     "base_uri": "https://localhost:8080/"
    },
    "executionInfo": {
     "elapsed": 780,
     "status": "ok",
     "timestamp": 1619037555545,
     "user": {
      "displayName": "Remis Balaniuk",
      "photoUrl": "https://lh3.googleusercontent.com/a-/AOh14GjXOVdqV9bjxfLhxmIbGhplE28x3FPyTvay3vtfyJY=s64",
      "userId": "01431272418885295259"
     },
     "user_tz": 180
    },
    "id": "21Yn5-a6Wdpr",
    "outputId": "1ca376d3-570a-4c5f-8ea9-81ed40352abf"
   },
   "outputs": [],
   "source": [
    "# Utilize a função LinearRegression().fit() para as variáveis do conjunto de treinamento (X_train e y_train).\n",
    "# Use valores default em todos os parâmetros da classe.\n",
    "# o novo objeto da regressão deve ser denominado \"reg\"\n",
    "reg = LinearRegression().fit(x_train, y_train)"
   ]
  },
  {
   "cell_type": "code",
   "execution_count": 18,
   "metadata": {
    "colab": {
     "base_uri": "https://localhost:8080/"
    },
    "executionInfo": {
     "elapsed": 672,
     "status": "ok",
     "timestamp": 1619037558001,
     "user": {
      "displayName": "Remis Balaniuk",
      "photoUrl": "https://lh3.googleusercontent.com/a-/AOh14GjXOVdqV9bjxfLhxmIbGhplE28x3FPyTvay3vtfyJY=s64",
      "userId": "01431272418885295259"
     },
     "user_tz": 180
    },
    "id": "5uSN5aEYpuUK",
    "outputId": "c0631051-ab6a-4df3-8dc5-9ec5eadefc4b"
   },
   "outputs": [
    {
     "name": "stdout",
     "output_type": "stream",
     "text": [
      "0.4543759177220664\n"
     ]
    }
   ],
   "source": [
    "# Qual é o valor do coefiente de determinação R2 obtido? Utilize o método score\n",
    "print(reg.score(x_train, y_train))"
   ]
  },
  {
   "cell_type": "code",
   "execution_count": 19,
   "metadata": {
    "colab": {
     "base_uri": "https://localhost:8080/"
    },
    "executionInfo": {
     "elapsed": 653,
     "status": "ok",
     "timestamp": 1619037581318,
     "user": {
      "displayName": "Remis Balaniuk",
      "photoUrl": "https://lh3.googleusercontent.com/a-/AOh14GjXOVdqV9bjxfLhxmIbGhplE28x3FPyTvay3vtfyJY=s64",
      "userId": "01431272418885295259"
     },
     "user_tz": 180
    },
    "id": "OhFewspCpAVH",
    "outputId": "dfca122a-cbe3-41db-f682-d110b92a8826"
   },
   "outputs": [
    {
     "name": "stdout",
     "output_type": "stream",
     "text": [
      "Coeficientes angulares: [-5.70273707e+11 -5.70273707e+11 -5.70273707e+11 -5.70273707e+11]\n"
     ]
    }
   ],
   "source": [
    "# Quais são os valores do coeficientes obtidos? Utilize o atributo coef_\n",
    "a = reg.coef_\n",
    "print(f\"Coeficientes angulares: {a}\")"
   ]
  },
  {
   "cell_type": "code",
   "execution_count": 20,
   "metadata": {},
   "outputs": [
    {
     "name": "stdout",
     "output_type": "stream",
     "text": [
      "Coeficiente Linear: 13.325704286562516\n"
     ]
    }
   ],
   "source": [
    "# Qual é o valor do intercepto desse modelo? Utilize o atributo intercept_\n",
    "l = reg.intercept_\n",
    "print(f\"Coeficiente Linear: {l}\")"
   ]
  },
  {
   "cell_type": "markdown",
   "metadata": {},
   "source": [
    "Use a classe LinearRegression do Scikit-learn para ajustar (fit) um modelo de regressão linear no conjunto de TESTE."
   ]
  },
  {
   "cell_type": "code",
   "execution_count": 27,
   "metadata": {},
   "outputs": [],
   "source": [
    "# Utilize a função LinearRegression().fit() para as variáveis do conjunto de teste (X_test e y_test).\n",
    "# Use valores default em todos os parâmetros da classe.\n",
    "# o novo objeto da regressão deve ser denominado \"reg2\"\n",
    "reg2 = LinearRegression().fit(x_test, y_test)"
   ]
  },
  {
   "cell_type": "code",
   "execution_count": 35,
   "metadata": {
    "colab": {
     "base_uri": "https://localhost:8080/"
    },
    "executionInfo": {
     "elapsed": 612,
     "status": "ok",
     "timestamp": 1619037587073,
     "user": {
      "displayName": "Remis Balaniuk",
      "photoUrl": "https://lh3.googleusercontent.com/a-/AOh14GjXOVdqV9bjxfLhxmIbGhplE28x3FPyTvay3vtfyJY=s64",
      "userId": "01431272418885295259"
     },
     "user_tz": 180
    },
    "id": "1WNWykRAAKnH",
    "outputId": "9c1bd248-b742-4cd9-a1a8-4a3ac87f7629"
   },
   "outputs": [
    {
     "data": {
      "text/plain": [
       "array([9.66121454, 9.52840204, 9.30971308, 9.07527704, 8.88741083,\n",
       "       9.31380243, 9.07527704, 9.59767694, 9.32912226, 9.39681024,\n",
       "       9.72871942, 9.01534052, 9.44002313, 9.44643183, 9.04219599,\n",
       "       8.80348749, 9.55739374, 9.30971308, 9.44331903, 9.32820673,\n",
       "       8.82320185, 9.68019647, 9.72664423, 9.07527704, 9.03139276,\n",
       "       9.36928339, 9.23390741, 9.62318964, 9.40700311, 9.33101435,\n",
       "       9.7357995 , 9.44643183, 9.32820673, 9.97047968, 9.22310419,\n",
       "       9.44252558, 9.31868524, 8.94026727, 9.23213739, 8.80348749,\n",
       "       9.91017694, 9.44869013, 9.32820673, 9.6364953 , 9.55739374,\n",
       "       9.01534052, 9.24886102, 9.23390741, 9.21577997, 9.66451044])"
      ]
     },
     "execution_count": 35,
     "metadata": {},
     "output_type": "execute_result"
    }
   ],
   "source": [
    "# Faça a predição com o modelo ajustado (treinado) no conjunto de TESTE. Utilize o método predict\n",
    "y_pred = reg.predict(x_test)\n",
    "print(y_pred)"
   ]
  },
  {
   "cell_type": "code",
   "execution_count": 38,
   "metadata": {
    "id": "jQd9FyzaklCP"
   },
   "outputs": [
    {
     "name": "stdout",
     "output_type": "stream",
     "text": [
      "0.3765548902361332\n"
     ]
    }
   ],
   "source": [
    "# Qual é o valor de R2 entre o X e o y do conjunto de teste? Utilize o método score\n",
    "print(reg.score(x_test, y_test))"
   ]
  },
  {
   "cell_type": "markdown",
   "metadata": {},
   "source": [
    "FIM DA ATIVIDADE. Você acabou de treinar um modelo de aprendizado de máquina (regressão linear).\n",
    "\n",
    "O R2 indica o percentual de bom ajuste entre o modelo treinado e o conjunto de dados."
   ]
  }
 ],
 "metadata": {
  "colab": {
   "collapsed_sections": [],
   "name": "Copy of CVM Técnicas de Mineração de Dados 7.ipynb",
   "provenance": [
    {
     "file_id": "158xpggFWxd7raPPGz3Z2rZxioi_8xXhg",
     "timestamp": 1619094806253
    }
   ]
  },
  "kernelspec": {
   "display_name": "Python 3 (ipykernel)",
   "language": "python",
   "name": "python3"
  },
  "language_info": {
   "codemirror_mode": {
    "name": "ipython",
    "version": 3
   },
   "file_extension": ".py",
   "mimetype": "text/x-python",
   "name": "python",
   "nbconvert_exporter": "python",
   "pygments_lexer": "ipython3",
   "version": "3.11.5"
  },
  "toc": {
   "base_numbering": 1,
   "nav_menu": {},
   "number_sections": true,
   "sideBar": true,
   "skip_h1_title": false,
   "title_cell": "Table of Contents",
   "title_sidebar": "Contents",
   "toc_cell": false,
   "toc_position": {},
   "toc_section_display": true,
   "toc_window_display": false
  }
 },
 "nbformat": 4,
 "nbformat_minor": 1
}
